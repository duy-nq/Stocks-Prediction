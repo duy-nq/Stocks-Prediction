{
  "nbformat": 4,
  "nbformat_minor": 0,
  "metadata": {
    "colab": {
      "provenance": [],
      "collapsed_sections": [
        "21k370F6x5zv",
        "MzTksUdUxhvP",
        "hnyYwgr1zjEl",
        "---1zF6C2SIv",
        "ttKDiKYD2VLX",
        "ZmPzXRXO5E8h",
        "ABmwiUxn9OYt",
        "azbqHlh-7ERO",
        "6JfxWJhIejl4",
        "ezEiYoTZ22Sb",
        "2NjNWMJNIRDG",
        "AyxpD8pm8Bzv"
      ]
    },
    "kernelspec": {
      "name": "python3",
      "display_name": "Python 3"
    },
    "language_info": {
      "name": "python"
    }
  },
  "cells": [
    {
      "cell_type": "markdown",
      "source": [
        "## **REPO**"
      ],
      "metadata": {
        "id": "21k370F6x5zv"
      }
    },
    {
      "cell_type": "code",
      "source": [
        "!git clone https://github.com/duy-nq/Stocks-Prediction.git"
      ],
      "metadata": {
        "colab": {
          "base_uri": "https://localhost:8080/"
        },
        "id": "-kRm6a1Yx_l3",
        "outputId": "c66c7093-d538-4dcc-d737-e33e9a97638b"
      },
      "execution_count": 180,
      "outputs": [
        {
          "output_type": "stream",
          "name": "stdout",
          "text": [
            "fatal: destination path 'Stocks-Prediction' already exists and is not an empty directory.\n"
          ]
        }
      ]
    },
    {
      "cell_type": "markdown",
      "source": [
        "## **IMPORT LIBRARIES**"
      ],
      "metadata": {
        "id": "MzTksUdUxhvP"
      }
    },
    {
      "cell_type": "code",
      "execution_count": 181,
      "metadata": {
        "id": "5xI7RCnzwyLt"
      },
      "outputs": [],
      "source": [
        "import pandas as pd\n",
        "import matplotlib.pyplot as plt\n",
        "import numpy as np\n",
        "\n",
        "from sklearn.linear_model import ElasticNet\n",
        "from sklearn.ensemble import RandomForestRegressor, AdaBoostRegressor\n",
        "from sklearn.model_selection import RandomizedSearchCV, KFold\n",
        "\n",
        "from sklearn.metrics import mean_squared_error, mean_absolute_error\n",
        "\n",
        "from sklearn.preprocessing import RobustScaler\n",
        "from sklearn.model_selection import train_test_split\n",
        "\n",
        "import seaborn as sns\n",
        "\n",
        "from datetime import datetime as dt\n",
        "from datetime import date"
      ]
    },
    {
      "cell_type": "markdown",
      "source": [
        "## **FUNCTIONS**"
      ],
      "metadata": {
        "id": "hnyYwgr1zjEl"
      }
    },
    {
      "cell_type": "code",
      "source": [
        "def split_and_remove(df: pd.DataFrame):\n",
        "  df['Date'] = df['Date/Time'].apply(lambda date_time: dt.strptime(date_time, '%m/%d/%Y %H:%M').date())\n",
        "\n",
        "  return df"
      ],
      "metadata": {
        "id": "bvUIyMA99fmd"
      },
      "execution_count": 182,
      "outputs": []
    },
    {
      "cell_type": "code",
      "source": [
        "def groupped_df(df: pd.DataFrame):\n",
        "  return df.groupby('Date').agg(\n",
        "    Open=('Open', 'first'),\n",
        "    High=('High', 'max'),\n",
        "    Low=('Low', 'min'),\n",
        "    Close=('Close', 'last'),\n",
        "    Volume=('Volume', 'sum')\n",
        "  ).sort_values(by='Date')"
      ],
      "metadata": {
        "id": "92AGMe9zKoNO"
      },
      "execution_count": 183,
      "outputs": []
    },
    {
      "cell_type": "code",
      "source": [
        "def outlier_check(df: pd.DataFrame, att: str):\n",
        "  Q1 = df[att].quantile(0.25)\n",
        "  Q3 = df[att].quantile(0.75)\n",
        "  IQR = Q3 - Q1\n",
        "\n",
        "  outliers = df[(df[att] < (Q1 - 1.5 * IQR)) | (df[att] > (Q3 + 1.5 * IQR))]\n",
        "  print(\"Outliers based on IQR:\")\n",
        "  print(outliers)\n"
      ],
      "metadata": {
        "id": "cFP47oqCK7aW"
      },
      "execution_count": 184,
      "outputs": []
    },
    {
      "cell_type": "code",
      "source": [
        "def basic_train(models, X_train, y_train, is_plot: bool):\n",
        "    def plot():\n",
        "        train_score = pd.DataFrame(data = training_score, columns = ['MAE'])\n",
        "        train_score.index = ['ELAS', 'RF', 'AB']\n",
        "        train_score = train_score.sort_values(by = 'MAE')\n",
        "\n",
        "        plt.figure(figsize=(15, 5))\n",
        "        sns.barplot(x=train_score.index, y='MAE', data=train_score,palette=\"rocket\")\n",
        "        plt.xlabel('Models')\n",
        "        plt.ylabel('MAE')\n",
        "        plt.title('MAE vs Models')\n",
        "\n",
        "    training_score = []\n",
        "    for model in models:\n",
        "        model.fit(X_train,y_train)\n",
        "        y_pred_train = model.predict(X_train)\n",
        "        train_mse = mean_absolute_error(y_train, y_pred_train)\n",
        "        training_score.append(train_mse)\n",
        "\n",
        "    if is_plot:\n",
        "        plot()\n",
        "\n",
        "    return models"
      ],
      "metadata": {
        "id": "JwcojOPvAuBP"
      },
      "execution_count": 185,
      "outputs": []
    },
    {
      "cell_type": "code",
      "source": [
        "def gs_train(models, X_train, y_train, is_plot: bool):\n",
        "    def grid_search_cv(model, params):\n",
        "        kfold = KFold(n_splits=5, shuffle=True, random_state=23)\n",
        "        global best_params, best_score\n",
        "\n",
        "        grid_search = RandomizedSearchCV(\n",
        "            estimator = model,\n",
        "            param_distributions=params,\n",
        "            verbose=1,\n",
        "            n_iter=5,\n",
        "            random_state=23,\n",
        "            cv=kfold,\n",
        "            scoring='neg_mean_absolute_error',\n",
        "            n_jobs = -1\n",
        "        )\n",
        "\n",
        "        grid_search.fit(X_train, y_train)\n",
        "        best_params = grid_search.best_params_\n",
        "        best_score = (np.round(grid_search.best_score_, 5))\n",
        "\n",
        "        return best_params, best_score\n",
        "\n",
        "    def plot():\n",
        "        optimized_scores = pd.DataFrame({'Optimized Scores':[elas_best_score, rf_best_score,ab_best_score] })\n",
        "        optimized_scores.index = ['ELAS', 'Random Forest', 'Ada Boost']\n",
        "        optimized_scores = optimized_scores.sort_values(by = 'Optimized Scores')\n",
        "        optimized_scores\n",
        "        plt.figure(figsize=(15, 5))\n",
        "        sns.barplot(x=optimized_scores.index, y='Optimized Scores', data=optimized_scores,palette=\"rocket\")\n",
        "        plt.xlabel('Models')\n",
        "        plt.ylabel('MAE')\n",
        "        plt.title('Optimized_MAE vs models')\n",
        "        plt.show()\n",
        "\n",
        "    elas_best_params, elas_best_score = grid_search_cv(models[1], ELASTIC_PARAMS)\n",
        "    rf_best_params, rf_best_score = grid_search_cv(models[2], RF_PARAMS)\n",
        "    ab_best_params, ab_best_score = grid_search_cv(models[3], AB_PARAMS)\n",
        "\n",
        "    if is_plot:\n",
        "        plot()\n",
        "\n",
        "    opt_model = [\n",
        "        ElasticNet(**elas_best_params),\n",
        "        RandomForestRegressor(**rf_best_params),\n",
        "        AdaBoostRegressor(**ab_best_params)\n",
        "    ]\n",
        "\n",
        "    return opt_model"
      ],
      "metadata": {
        "id": "DeOQTcOU_VYM"
      },
      "execution_count": 186,
      "outputs": []
    },
    {
      "cell_type": "code",
      "source": [
        "def plot_result(test_list, pred_list: list[float]):\n",
        "    plt.figure(figsize=(10, 6))\n",
        "\n",
        "    plt.plot(test_list, label='Thực tế', color='blue')\n",
        "    plt.plot(pred_list, label='Dự đoán', color='red', linestyle='dashed')\n",
        "\n",
        "    plt.title('So sánh giá cổ phiếu trên thực tế và dự đoán')\n",
        "    plt.xlabel('Ngày')\n",
        "    plt.ylabel('Giá (nghìn VNĐ)')\n",
        "    plt.legend()\n",
        "    plt.show()"
      ],
      "metadata": {
        "id": "NL9HmUX3F2Uy"
      },
      "execution_count": 187,
      "outputs": []
    },
    {
      "cell_type": "code",
      "source": [
        "def one_day_prediction(model, data):\n",
        "  results = []\n",
        "  for i in range(3, len(data)):\n",
        "    model_input = np.array([data[i][0], sum(data[i-3:i][1])/3, sum(data[i-3:i][2])/3])\n",
        "    pred = model.predict(model_input.reshape(1, -1))\n",
        "    results.append(pred)\n",
        "\n",
        "  return results"
      ],
      "metadata": {
        "id": "2hA0oURRId2E"
      },
      "execution_count": 188,
      "outputs": []
    },
    {
      "cell_type": "markdown",
      "source": [
        "## **DATA PREPROCESSING**"
      ],
      "metadata": {
        "id": "bZ_phy3x09z1"
      }
    },
    {
      "cell_type": "markdown",
      "source": [
        "### **Load data**"
      ],
      "metadata": {
        "id": "---1zF6C2SIv"
      }
    },
    {
      "cell_type": "code",
      "source": [
        "fpt_data = pd.read_csv('/content/Stocks-Prediction/FPT.csv')\n",
        "msn_data = pd.read_csv('/content/Stocks-Prediction/MSN.csv')\n",
        "pnj_data = pd.read_csv('/content/Stocks-Prediction/PNJ.csv')\n",
        "vic_data = pd.read_csv('/content/Stocks-Prediction/VIC.csv')"
      ],
      "metadata": {
        "id": "wvBdpMoa0p6a"
      },
      "execution_count": 189,
      "outputs": []
    },
    {
      "cell_type": "markdown",
      "source": [
        "### **Kiểm tra các giá trị null**"
      ],
      "metadata": {
        "id": "ttKDiKYD2VLX"
      }
    },
    {
      "cell_type": "markdown",
      "source": [
        "Trước khi loại bỏ các giá trị null"
      ],
      "metadata": {
        "id": "ZbFeQ93W32Ls"
      }
    },
    {
      "cell_type": "code",
      "source": [
        "fpt_data.shape, msn_data.shape, pnj_data.shape, vic_data.shape"
      ],
      "metadata": {
        "colab": {
          "base_uri": "https://localhost:8080/"
        },
        "id": "7cXOJbTO1U6h",
        "outputId": "4acf513f-372f-4960-bdef-cbeed51887aa"
      },
      "execution_count": 190,
      "outputs": [
        {
          "output_type": "execute_result",
          "data": {
            "text/plain": [
              "((97406, 8), (135354, 8), (125309, 8), (101266, 8))"
            ]
          },
          "metadata": {},
          "execution_count": 190
        }
      ]
    },
    {
      "cell_type": "markdown",
      "source": [
        "Loại bỏ các dòng dữ liệu có chứa giá trị null"
      ],
      "metadata": {
        "id": "V9Yc2YHv35CI"
      }
    },
    {
      "cell_type": "code",
      "source": [
        "fpt_data.dropna(axis=0), msn_data.dropna(axis=0), pnj_data.dropna(axis=0), vic_data.dropna(axis=0)"
      ],
      "metadata": {
        "colab": {
          "base_uri": "https://localhost:8080/"
        },
        "collapsed": true,
        "id": "EjXuScjf2kYI",
        "outputId": "853a8c8b-9a10-4c33-a83b-e260ab7ae858"
      },
      "execution_count": 191,
      "outputs": [
        {
          "output_type": "execute_result",
          "data": {
            "text/plain": [
              "(      Ticker         Date/Time   Open   High    Low  Close  Volume  \\\n",
              " 0        FPT   12/25/2018 9:15  30.89  30.89  30.89  30.89   35410   \n",
              " 1        FPT   12/25/2018 9:16  30.81  30.81  30.81  30.81     190   \n",
              " 2        FPT   12/25/2018 9:17  30.74  30.81  30.74  30.74    1120   \n",
              " 3        FPT   12/25/2018 9:18  30.74  30.74  30.74  30.74    2120   \n",
              " 4        FPT   12/25/2018 9:19  30.74  30.74  30.74  30.74   22500   \n",
              " ...      ...               ...    ...    ...    ...    ...     ...   \n",
              " 97401    FPT  12/22/2020 14:24  58.20  58.20  58.20  58.20   27470   \n",
              " 97402    FPT  12/22/2020 14:25  58.20  58.20  58.20  58.20   14820   \n",
              " 97403    FPT  12/22/2020 14:26  58.20  58.20  58.20  58.20     500   \n",
              " 97404    FPT  12/22/2020 14:29  58.10  58.10  58.10  58.10    2500   \n",
              " 97405    FPT  12/22/2020 14:46  58.10  58.10  58.10  58.10   11170   \n",
              " \n",
              "        Open Interest  \n",
              " 0                  0  \n",
              " 1                  0  \n",
              " 2                  0  \n",
              " 3                  0  \n",
              " 4                  0  \n",
              " ...              ...  \n",
              " 97401              0  \n",
              " 97402              0  \n",
              " 97403              0  \n",
              " 97404              0  \n",
              " 97405              0  \n",
              " \n",
              " [97406 rows x 8 columns],\n",
              "        Ticker         Date/Time  Open  High   Low  Close  Volume  \\\n",
              " 0         MSN   12/25/2017 9:15  73.1  73.1  73.1   73.1    4210   \n",
              " 1         MSN   12/25/2017 9:16  73.0  73.0  73.0   73.0    5000   \n",
              " 2         MSN   12/25/2017 9:18  73.5  73.5  73.5   73.5     210   \n",
              " 3         MSN   12/25/2017 9:20  73.2  73.5  73.1   73.1    2050   \n",
              " 4         MSN   12/25/2017 9:21  73.0  73.0  73.0   73.0    1380   \n",
              " ...       ...               ...   ...   ...   ...    ...     ...   \n",
              " 135349    MSN  12/22/2020 14:23  82.8  82.8  82.8   82.8     700   \n",
              " 135350    MSN  12/22/2020 14:24  82.7  82.8  82.7   82.8    4660   \n",
              " 135351    MSN  12/22/2020 14:25  82.8  82.8  82.8   82.8      50   \n",
              " 135352    MSN  12/22/2020 14:27  82.8  82.8  82.8   82.8     300   \n",
              " 135353    MSN  12/22/2020 14:46  82.8  82.8  82.8   82.8     200   \n",
              " \n",
              "         Open Interest  \n",
              " 0                   0  \n",
              " 1                   0  \n",
              " 2                   0  \n",
              " 3                   0  \n",
              " 4                   0  \n",
              " ...               ...  \n",
              " 135349              0  \n",
              " 135350              0  \n",
              " 135351              0  \n",
              " 135352              0  \n",
              " 135353              0  \n",
              " \n",
              " [135354 rows x 8 columns],\n",
              "        Ticker         Date/Time   Open   High    Low  Close  Volume  \\\n",
              " 0         PNJ    2/28/2018 9:15  78.14  78.99  78.14  78.99     270   \n",
              " 1         PNJ    2/28/2018 9:16  78.94  78.94  78.94  78.94      10   \n",
              " 2         PNJ    2/28/2018 9:19  78.14  78.14  78.14  78.14     283   \n",
              " 3         PNJ    2/28/2018 9:20  78.14  78.14  78.14  78.14     480   \n",
              " 4         PNJ    2/28/2018 9:21  78.14  78.14  78.14  78.14     146   \n",
              " ...       ...               ...    ...    ...    ...    ...     ...   \n",
              " 125304    PNJ  12/22/2020 14:22  78.20  78.20  78.20  78.20    5000   \n",
              " 125305    PNJ  12/22/2020 14:23  78.20  78.20  78.20  78.20    1700   \n",
              " 125306    PNJ  12/22/2020 14:24  78.20  78.20  78.20  78.20     870   \n",
              " 125307    PNJ  12/22/2020 14:25  78.10  78.10  78.10  78.10   13000   \n",
              " 125308    PNJ  12/22/2020 14:46  78.30  78.30  78.30  78.30    1500   \n",
              " \n",
              "         Open Interest  \n",
              " 0                   0  \n",
              " 1                   0  \n",
              " 2                   0  \n",
              " 3                   0  \n",
              " 4                   0  \n",
              " ...               ...  \n",
              " 125304              0  \n",
              " 125305              0  \n",
              " 125306              0  \n",
              " 125307              0  \n",
              " 125308              0  \n",
              " \n",
              " [125309 rows x 8 columns],\n",
              "        Ticker         Date/Time   Open   High    Low  Close  Volume  \\\n",
              " 0         VIC   10/17/2018 9:39   98.5   98.5   98.5   98.5     390   \n",
              " 1         VIC   10/17/2018 9:40   98.5   98.5   98.5   98.5     760   \n",
              " 2         VIC   10/17/2018 9:41   98.6   98.6   98.6   98.6    2060   \n",
              " 3         VIC   10/17/2018 9:42   98.6   98.6   98.6   98.6    5540   \n",
              " 4         VIC   10/17/2018 9:43   98.6   98.7   98.6   98.7     760   \n",
              " ...       ...               ...    ...    ...    ...    ...     ...   \n",
              " 101261    VIC  12/22/2020 14:22  105.8  105.8  105.7  105.7    1870   \n",
              " 101262    VIC  12/22/2020 14:23  105.7  105.7  105.7  105.7    2510   \n",
              " 101263    VIC  12/22/2020 14:24  105.7  105.7  105.7  105.7    3620   \n",
              " 101264    VIC  12/22/2020 14:25  105.7  105.7  105.7  105.7     100   \n",
              " 101265    VIC  12/22/2020 14:46  105.7  105.7  105.7  105.7      90   \n",
              " \n",
              "         Open Interest  \n",
              " 0                   0  \n",
              " 1                   0  \n",
              " 2                   0  \n",
              " 3                   0  \n",
              " 4                   0  \n",
              " ...               ...  \n",
              " 101261              0  \n",
              " 101262              0  \n",
              " 101263              0  \n",
              " 101264              0  \n",
              " 101265              0  \n",
              " \n",
              " [101266 rows x 8 columns])"
            ]
          },
          "metadata": {},
          "execution_count": 191
        }
      ]
    },
    {
      "cell_type": "markdown",
      "source": [
        "Sau khi loại bỏ các giá trị null"
      ],
      "metadata": {
        "id": "01Z9nSLp36iU"
      }
    },
    {
      "cell_type": "code",
      "source": [
        "fpt_data.shape, msn_data.shape, pnj_data.shape, vic_data.shape"
      ],
      "metadata": {
        "colab": {
          "base_uri": "https://localhost:8080/"
        },
        "id": "gtwU3EJA3L-S",
        "outputId": "51b23ec6-c0c0-4466-8321-ca3bb603e9d8"
      },
      "execution_count": 192,
      "outputs": [
        {
          "output_type": "execute_result",
          "data": {
            "text/plain": [
              "((97406, 8), (135354, 8), (125309, 8), (101266, 8))"
            ]
          },
          "metadata": {},
          "execution_count": 192
        }
      ]
    },
    {
      "cell_type": "markdown",
      "source": [
        "### **Loại bỏ các thuộc tính không cần thiết**"
      ],
      "metadata": {
        "id": "ZmPzXRXO5E8h"
      }
    },
    {
      "cell_type": "markdown",
      "source": [
        "Kiểm tra các giá trị của thuộc tính Open Interest trong các dataset"
      ],
      "metadata": {
        "id": "LKsC93hi5fno"
      }
    },
    {
      "cell_type": "code",
      "source": [
        "fpt_data['Open Interest'].unique(), msn_data['Open Interest'].unique(), pnj_data['Open Interest'].unique(), vic_data['Open Interest'].unique()"
      ],
      "metadata": {
        "colab": {
          "base_uri": "https://localhost:8080/"
        },
        "id": "v-XQyXzt5qdR",
        "outputId": "65506d17-de2f-4ac1-98ac-892868ab2335"
      },
      "execution_count": 193,
      "outputs": [
        {
          "output_type": "execute_result",
          "data": {
            "text/plain": [
              "(array([0]), array([0]), array([0]), array([0]))"
            ]
          },
          "metadata": {},
          "execution_count": 193
        }
      ]
    },
    {
      "cell_type": "markdown",
      "source": [
        "Các thuộc tính *Ticker*, *Open Interest* sẽ bị loại bỏ do đều chứa các giá trị có tính \"lặp lại\" và không mang lại giá trị cho quá trình dự đoán"
      ],
      "metadata": {
        "id": "v3Y--BDL5Qt-"
      }
    },
    {
      "cell_type": "code",
      "source": [
        "fpt_data = fpt_data.drop(['Ticker', 'Open Interest'], axis=1)\n",
        "msn_data = msn_data.drop(['Ticker', 'Open Interest'], axis=1)\n",
        "pnj_data = pnj_data.drop(['Ticker', 'Open Interest'], axis=1)\n",
        "vic_data = vic_data.drop(['Ticker', 'Open Interest'], axis=1)"
      ],
      "metadata": {
        "id": "tqTagfJ55Ki-"
      },
      "execution_count": 194,
      "outputs": []
    },
    {
      "cell_type": "markdown",
      "source": [
        "### **Tách Date/Time thành Date**"
      ],
      "metadata": {
        "id": "ABmwiUxn9OYt"
      }
    },
    {
      "cell_type": "code",
      "source": [
        "fpt_split = split_and_remove(fpt_data)\n",
        "msn_split = split_and_remove(msn_data)\n",
        "pnj_split = split_and_remove(pnj_data)\n",
        "vic_split = split_and_remove(vic_data)"
      ],
      "metadata": {
        "id": "UnDWpn1V9VSz"
      },
      "execution_count": 195,
      "outputs": []
    },
    {
      "cell_type": "markdown",
      "source": [
        "### **Chuyển dự liệu cổ phiếu theo phút về theo ngày**"
      ],
      "metadata": {
        "id": "azbqHlh-7ERO"
      }
    },
    {
      "cell_type": "code",
      "source": [
        "grouped_fpt = groupped_df(fpt_split)\n",
        "grouped_msn = groupped_df(msn_split)\n",
        "grouped_pnj = groupped_df(pnj_split)\n",
        "grouped_vic = groupped_df(vic_split)"
      ],
      "metadata": {
        "id": "4rHNVq3bBS2B"
      },
      "execution_count": 196,
      "outputs": []
    },
    {
      "cell_type": "code",
      "source": [
        "grouped_fpt.head()"
      ],
      "metadata": {
        "colab": {
          "base_uri": "https://localhost:8080/",
          "height": 237
        },
        "id": "dI5hEofEK4bo",
        "outputId": "50d4ca5a-42fe-4244-8755-6c9e172b4b99"
      },
      "execution_count": 197,
      "outputs": [
        {
          "output_type": "execute_result",
          "data": {
            "text/plain": [
              "             Open   High    Low  Close  Volume\n",
              "Date                                          \n",
              "2018-12-25  30.89  30.89  30.59  30.66   84960\n",
              "2018-12-26  31.04  31.22  30.89  30.89  333590\n",
              "2018-12-27  31.41  31.52  31.19  31.19  454860\n",
              "2018-12-28  31.34  31.49  31.19  31.49  387170\n",
              "2019-01-02  31.19  31.45  30.70  30.74  459120"
            ],
            "text/html": [
              "\n",
              "  <div id=\"df-6bde7df7-b673-4a49-9ac8-63c3f044bb64\" class=\"colab-df-container\">\n",
              "    <div>\n",
              "<style scoped>\n",
              "    .dataframe tbody tr th:only-of-type {\n",
              "        vertical-align: middle;\n",
              "    }\n",
              "\n",
              "    .dataframe tbody tr th {\n",
              "        vertical-align: top;\n",
              "    }\n",
              "\n",
              "    .dataframe thead th {\n",
              "        text-align: right;\n",
              "    }\n",
              "</style>\n",
              "<table border=\"1\" class=\"dataframe\">\n",
              "  <thead>\n",
              "    <tr style=\"text-align: right;\">\n",
              "      <th></th>\n",
              "      <th>Open</th>\n",
              "      <th>High</th>\n",
              "      <th>Low</th>\n",
              "      <th>Close</th>\n",
              "      <th>Volume</th>\n",
              "    </tr>\n",
              "    <tr>\n",
              "      <th>Date</th>\n",
              "      <th></th>\n",
              "      <th></th>\n",
              "      <th></th>\n",
              "      <th></th>\n",
              "      <th></th>\n",
              "    </tr>\n",
              "  </thead>\n",
              "  <tbody>\n",
              "    <tr>\n",
              "      <th>2018-12-25</th>\n",
              "      <td>30.89</td>\n",
              "      <td>30.89</td>\n",
              "      <td>30.59</td>\n",
              "      <td>30.66</td>\n",
              "      <td>84960</td>\n",
              "    </tr>\n",
              "    <tr>\n",
              "      <th>2018-12-26</th>\n",
              "      <td>31.04</td>\n",
              "      <td>31.22</td>\n",
              "      <td>30.89</td>\n",
              "      <td>30.89</td>\n",
              "      <td>333590</td>\n",
              "    </tr>\n",
              "    <tr>\n",
              "      <th>2018-12-27</th>\n",
              "      <td>31.41</td>\n",
              "      <td>31.52</td>\n",
              "      <td>31.19</td>\n",
              "      <td>31.19</td>\n",
              "      <td>454860</td>\n",
              "    </tr>\n",
              "    <tr>\n",
              "      <th>2018-12-28</th>\n",
              "      <td>31.34</td>\n",
              "      <td>31.49</td>\n",
              "      <td>31.19</td>\n",
              "      <td>31.49</td>\n",
              "      <td>387170</td>\n",
              "    </tr>\n",
              "    <tr>\n",
              "      <th>2019-01-02</th>\n",
              "      <td>31.19</td>\n",
              "      <td>31.45</td>\n",
              "      <td>30.70</td>\n",
              "      <td>30.74</td>\n",
              "      <td>459120</td>\n",
              "    </tr>\n",
              "  </tbody>\n",
              "</table>\n",
              "</div>\n",
              "    <div class=\"colab-df-buttons\">\n",
              "\n",
              "  <div class=\"colab-df-container\">\n",
              "    <button class=\"colab-df-convert\" onclick=\"convertToInteractive('df-6bde7df7-b673-4a49-9ac8-63c3f044bb64')\"\n",
              "            title=\"Convert this dataframe to an interactive table.\"\n",
              "            style=\"display:none;\">\n",
              "\n",
              "  <svg xmlns=\"http://www.w3.org/2000/svg\" height=\"24px\" viewBox=\"0 -960 960 960\">\n",
              "    <path d=\"M120-120v-720h720v720H120Zm60-500h600v-160H180v160Zm220 220h160v-160H400v160Zm0 220h160v-160H400v160ZM180-400h160v-160H180v160Zm440 0h160v-160H620v160ZM180-180h160v-160H180v160Zm440 0h160v-160H620v160Z\"/>\n",
              "  </svg>\n",
              "    </button>\n",
              "\n",
              "  <style>\n",
              "    .colab-df-container {\n",
              "      display:flex;\n",
              "      gap: 12px;\n",
              "    }\n",
              "\n",
              "    .colab-df-convert {\n",
              "      background-color: #E8F0FE;\n",
              "      border: none;\n",
              "      border-radius: 50%;\n",
              "      cursor: pointer;\n",
              "      display: none;\n",
              "      fill: #1967D2;\n",
              "      height: 32px;\n",
              "      padding: 0 0 0 0;\n",
              "      width: 32px;\n",
              "    }\n",
              "\n",
              "    .colab-df-convert:hover {\n",
              "      background-color: #E2EBFA;\n",
              "      box-shadow: 0px 1px 2px rgba(60, 64, 67, 0.3), 0px 1px 3px 1px rgba(60, 64, 67, 0.15);\n",
              "      fill: #174EA6;\n",
              "    }\n",
              "\n",
              "    .colab-df-buttons div {\n",
              "      margin-bottom: 4px;\n",
              "    }\n",
              "\n",
              "    [theme=dark] .colab-df-convert {\n",
              "      background-color: #3B4455;\n",
              "      fill: #D2E3FC;\n",
              "    }\n",
              "\n",
              "    [theme=dark] .colab-df-convert:hover {\n",
              "      background-color: #434B5C;\n",
              "      box-shadow: 0px 1px 3px 1px rgba(0, 0, 0, 0.15);\n",
              "      filter: drop-shadow(0px 1px 2px rgba(0, 0, 0, 0.3));\n",
              "      fill: #FFFFFF;\n",
              "    }\n",
              "  </style>\n",
              "\n",
              "    <script>\n",
              "      const buttonEl =\n",
              "        document.querySelector('#df-6bde7df7-b673-4a49-9ac8-63c3f044bb64 button.colab-df-convert');\n",
              "      buttonEl.style.display =\n",
              "        google.colab.kernel.accessAllowed ? 'block' : 'none';\n",
              "\n",
              "      async function convertToInteractive(key) {\n",
              "        const element = document.querySelector('#df-6bde7df7-b673-4a49-9ac8-63c3f044bb64');\n",
              "        const dataTable =\n",
              "          await google.colab.kernel.invokeFunction('convertToInteractive',\n",
              "                                                    [key], {});\n",
              "        if (!dataTable) return;\n",
              "\n",
              "        const docLinkHtml = 'Like what you see? Visit the ' +\n",
              "          '<a target=\"_blank\" href=https://colab.research.google.com/notebooks/data_table.ipynb>data table notebook</a>'\n",
              "          + ' to learn more about interactive tables.';\n",
              "        element.innerHTML = '';\n",
              "        dataTable['output_type'] = 'display_data';\n",
              "        await google.colab.output.renderOutput(dataTable, element);\n",
              "        const docLink = document.createElement('div');\n",
              "        docLink.innerHTML = docLinkHtml;\n",
              "        element.appendChild(docLink);\n",
              "      }\n",
              "    </script>\n",
              "  </div>\n",
              "\n",
              "\n",
              "<div id=\"df-3c01ca06-f2ca-40d3-9fad-ca5407e912bd\">\n",
              "  <button class=\"colab-df-quickchart\" onclick=\"quickchart('df-3c01ca06-f2ca-40d3-9fad-ca5407e912bd')\"\n",
              "            title=\"Suggest charts\"\n",
              "            style=\"display:none;\">\n",
              "\n",
              "<svg xmlns=\"http://www.w3.org/2000/svg\" height=\"24px\"viewBox=\"0 0 24 24\"\n",
              "     width=\"24px\">\n",
              "    <g>\n",
              "        <path d=\"M19 3H5c-1.1 0-2 .9-2 2v14c0 1.1.9 2 2 2h14c1.1 0 2-.9 2-2V5c0-1.1-.9-2-2-2zM9 17H7v-7h2v7zm4 0h-2V7h2v10zm4 0h-2v-4h2v4z\"/>\n",
              "    </g>\n",
              "</svg>\n",
              "  </button>\n",
              "\n",
              "<style>\n",
              "  .colab-df-quickchart {\n",
              "      --bg-color: #E8F0FE;\n",
              "      --fill-color: #1967D2;\n",
              "      --hover-bg-color: #E2EBFA;\n",
              "      --hover-fill-color: #174EA6;\n",
              "      --disabled-fill-color: #AAA;\n",
              "      --disabled-bg-color: #DDD;\n",
              "  }\n",
              "\n",
              "  [theme=dark] .colab-df-quickchart {\n",
              "      --bg-color: #3B4455;\n",
              "      --fill-color: #D2E3FC;\n",
              "      --hover-bg-color: #434B5C;\n",
              "      --hover-fill-color: #FFFFFF;\n",
              "      --disabled-bg-color: #3B4455;\n",
              "      --disabled-fill-color: #666;\n",
              "  }\n",
              "\n",
              "  .colab-df-quickchart {\n",
              "    background-color: var(--bg-color);\n",
              "    border: none;\n",
              "    border-radius: 50%;\n",
              "    cursor: pointer;\n",
              "    display: none;\n",
              "    fill: var(--fill-color);\n",
              "    height: 32px;\n",
              "    padding: 0;\n",
              "    width: 32px;\n",
              "  }\n",
              "\n",
              "  .colab-df-quickchart:hover {\n",
              "    background-color: var(--hover-bg-color);\n",
              "    box-shadow: 0 1px 2px rgba(60, 64, 67, 0.3), 0 1px 3px 1px rgba(60, 64, 67, 0.15);\n",
              "    fill: var(--button-hover-fill-color);\n",
              "  }\n",
              "\n",
              "  .colab-df-quickchart-complete:disabled,\n",
              "  .colab-df-quickchart-complete:disabled:hover {\n",
              "    background-color: var(--disabled-bg-color);\n",
              "    fill: var(--disabled-fill-color);\n",
              "    box-shadow: none;\n",
              "  }\n",
              "\n",
              "  .colab-df-spinner {\n",
              "    border: 2px solid var(--fill-color);\n",
              "    border-color: transparent;\n",
              "    border-bottom-color: var(--fill-color);\n",
              "    animation:\n",
              "      spin 1s steps(1) infinite;\n",
              "  }\n",
              "\n",
              "  @keyframes spin {\n",
              "    0% {\n",
              "      border-color: transparent;\n",
              "      border-bottom-color: var(--fill-color);\n",
              "      border-left-color: var(--fill-color);\n",
              "    }\n",
              "    20% {\n",
              "      border-color: transparent;\n",
              "      border-left-color: var(--fill-color);\n",
              "      border-top-color: var(--fill-color);\n",
              "    }\n",
              "    30% {\n",
              "      border-color: transparent;\n",
              "      border-left-color: var(--fill-color);\n",
              "      border-top-color: var(--fill-color);\n",
              "      border-right-color: var(--fill-color);\n",
              "    }\n",
              "    40% {\n",
              "      border-color: transparent;\n",
              "      border-right-color: var(--fill-color);\n",
              "      border-top-color: var(--fill-color);\n",
              "    }\n",
              "    60% {\n",
              "      border-color: transparent;\n",
              "      border-right-color: var(--fill-color);\n",
              "    }\n",
              "    80% {\n",
              "      border-color: transparent;\n",
              "      border-right-color: var(--fill-color);\n",
              "      border-bottom-color: var(--fill-color);\n",
              "    }\n",
              "    90% {\n",
              "      border-color: transparent;\n",
              "      border-bottom-color: var(--fill-color);\n",
              "    }\n",
              "  }\n",
              "</style>\n",
              "\n",
              "  <script>\n",
              "    async function quickchart(key) {\n",
              "      const quickchartButtonEl =\n",
              "        document.querySelector('#' + key + ' button');\n",
              "      quickchartButtonEl.disabled = true;  // To prevent multiple clicks.\n",
              "      quickchartButtonEl.classList.add('colab-df-spinner');\n",
              "      try {\n",
              "        const charts = await google.colab.kernel.invokeFunction(\n",
              "            'suggestCharts', [key], {});\n",
              "      } catch (error) {\n",
              "        console.error('Error during call to suggestCharts:', error);\n",
              "      }\n",
              "      quickchartButtonEl.classList.remove('colab-df-spinner');\n",
              "      quickchartButtonEl.classList.add('colab-df-quickchart-complete');\n",
              "    }\n",
              "    (() => {\n",
              "      let quickchartButtonEl =\n",
              "        document.querySelector('#df-3c01ca06-f2ca-40d3-9fad-ca5407e912bd button');\n",
              "      quickchartButtonEl.style.display =\n",
              "        google.colab.kernel.accessAllowed ? 'block' : 'none';\n",
              "    })();\n",
              "  </script>\n",
              "</div>\n",
              "\n",
              "    </div>\n",
              "  </div>\n"
            ],
            "application/vnd.google.colaboratory.intrinsic+json": {
              "type": "dataframe",
              "variable_name": "grouped_fpt",
              "summary": "{\n  \"name\": \"grouped_fpt\",\n  \"rows\": 499,\n  \"fields\": [\n    {\n      \"column\": \"Date\",\n      \"properties\": {\n        \"dtype\": \"date\",\n        \"min\": \"2018-12-25\",\n        \"max\": \"2020-12-22\",\n        \"num_unique_values\": 499,\n        \"samples\": [\n          \"2020-10-29\",\n          \"2019-04-17\",\n          \"2019-11-29\"\n        ],\n        \"semantic_type\": \"\",\n        \"description\": \"\"\n      }\n    },\n    {\n      \"column\": \"Open\",\n      \"properties\": {\n        \"dtype\": \"number\",\n        \"std\": 6.765702226397846,\n        \"min\": 30.29,\n        \"max\": 57.5,\n        \"num_unique_values\": 287,\n        \"samples\": [\n          32.08,\n          52.8,\n          49.85\n        ],\n        \"semantic_type\": \"\",\n        \"description\": \"\"\n      }\n    },\n    {\n      \"column\": \"High\",\n      \"properties\": {\n        \"dtype\": \"number\",\n        \"std\": 6.823154846256939,\n        \"min\": 30.89,\n        \"max\": 58.5,\n        \"num_unique_values\": 289,\n        \"samples\": [\n          35.44,\n          47.29,\n          55.9\n        ],\n        \"semantic_type\": \"\",\n        \"description\": \"\"\n      }\n    },\n    {\n      \"column\": \"Low\",\n      \"properties\": {\n        \"dtype\": \"number\",\n        \"std\": 6.6897980067749225,\n        \"min\": 30.22,\n        \"max\": 57.2,\n        \"num_unique_values\": 308,\n        \"samples\": [\n          53.3,\n          31.45,\n          35.66\n        ],\n        \"semantic_type\": \"\",\n        \"description\": \"\"\n      }\n    },\n    {\n      \"column\": \"Close\",\n      \"properties\": {\n        \"dtype\": \"number\",\n        \"std\": 6.757144457245738,\n        \"min\": 30.44,\n        \"max\": 58.1,\n        \"num_unique_values\": 295,\n        \"samples\": [\n          51.7,\n          49.76,\n          38.95\n        ],\n        \"semantic_type\": \"\",\n        \"description\": \"\"\n      }\n    },\n    {\n      \"column\": \"Volume\",\n      \"properties\": {\n        \"dtype\": \"number\",\n        \"std\": 953078,\n        \"min\": 84960,\n        \"max\": 6853810,\n        \"num_unique_values\": 499,\n        \"samples\": [\n          2719690,\n          1959530,\n          739370\n        ],\n        \"semantic_type\": \"\",\n        \"description\": \"\"\n      }\n    }\n  ]\n}"
            }
          },
          "metadata": {},
          "execution_count": 197
        }
      ]
    },
    {
      "cell_type": "markdown",
      "source": [
        "### **Ý tưởng**"
      ],
      "metadata": {
        "id": "6JfxWJhIejl4"
      }
    },
    {
      "cell_type": "markdown",
      "source": [
        "Ở đây, thống nhất xây dựng một mô hình sử dụng các thuộc tính bao gồm *Open, High, Low* để dự đoán giá trị của *Close*.\n",
        "\n",
        "Trên thực tế, trước mỗi phiên giao dịch chúng ta chỉ biết trước được giá trị của Open (thường là dựa vào *Close* của ngày hôm trước!). Như vậy, nhất thiết phải cần có một phương pháp để \"tạm ước lượng\" *High* và *Low* để làm input cho mô hình ở giai đoạn test!\n",
        "\n",
        "Đơn giản nhất là sử dụng Moving Average để ước tính hai thông số này! Có thể xem xét sử dụng Linear Regression với input là các giá trị của một số (?) ngày trước đó."
      ],
      "metadata": {
        "id": "ZSN-pcFwemPz"
      }
    },
    {
      "cell_type": "markdown",
      "source": [
        "### **Độ tương quan giữa các thuộc tính**"
      ],
      "metadata": {
        "id": "ezEiYoTZ22Sb"
      }
    },
    {
      "cell_type": "code",
      "source": [
        "grouped_fpt.corr(), grouped_msn.corr(), grouped_pnj.corr(), grouped_vic.corr()"
      ],
      "metadata": {
        "colab": {
          "base_uri": "https://localhost:8080/"
        },
        "id": "6BDtHYqr260U",
        "outputId": "2365ebd7-b9c9-4468-dbff-e8b70a24911e"
      },
      "execution_count": 198,
      "outputs": [
        {
          "output_type": "execute_result",
          "data": {
            "text/plain": [
              "(            Open      High       Low     Close    Volume\n",
              " Open    1.000000  0.997772  0.998428  0.995735  0.435731\n",
              " High    0.997772  1.000000  0.997439  0.998020  0.465502\n",
              " Low     0.998428  0.997439  1.000000  0.997950  0.420534\n",
              " Close   0.995735  0.998020  0.997950  1.000000  0.442653\n",
              " Volume  0.435731  0.465502  0.420534  0.442653  1.000000,\n",
              "             Open      High       Low     Close    Volume\n",
              " Open    1.000000  0.996786  0.997286  0.993677 -0.313134\n",
              " High    0.996786  1.000000  0.995732  0.997477 -0.285659\n",
              " Low     0.997286  0.995732  1.000000  0.996062 -0.334361\n",
              " Close   0.993677  0.997477  0.996062  1.000000 -0.297848\n",
              " Volume -0.313134 -0.285659 -0.334361 -0.297848  1.000000,\n",
              "             Open      High       Low     Close    Volume\n",
              " Open    1.000000  0.992990  0.993992  0.986643 -0.212151\n",
              " High    0.992990  1.000000  0.992219  0.992959 -0.205463\n",
              " Low     0.993992  0.992219  1.000000  0.993224 -0.225731\n",
              " Close   0.986643  0.992959  0.993224  1.000000 -0.203914\n",
              " Volume -0.212151 -0.205463 -0.225731 -0.203914  1.000000,\n",
              "             Open      High       Low     Close    Volume\n",
              " Open    1.000000  0.995248  0.995617  0.991165 -0.196761\n",
              " High    0.995248  1.000000  0.993494  0.996033 -0.165824\n",
              " Low     0.995617  0.993494  1.000000  0.993905 -0.221918\n",
              " Close   0.991165  0.996033  0.993905  1.000000 -0.182646\n",
              " Volume -0.196761 -0.165824 -0.221918 -0.182646  1.000000)"
            ]
          },
          "metadata": {},
          "execution_count": 198
        }
      ]
    },
    {
      "cell_type": "markdown",
      "source": [
        "Dễ thấy, thuộc tính Volume giao động trong khoảng từ -0.30 đến 0.44, nếu so sánh với các thuộc tính khác thì quả thật có sự chênh lệch khá lớn. Vì vậy, Volume sẽ tạm thời bị loại bỏ khỏi quá trình huấn luyện.\n"
      ],
      "metadata": {
        "id": "lyAU3LfX3D12"
      }
    },
    {
      "cell_type": "code",
      "source": [
        "grouped_fpt = grouped_fpt.drop(['Volume'], axis=1)\n",
        "grouped_msn = grouped_msn.drop(['Volume'], axis=1)\n",
        "grouped_pnj = grouped_pnj.drop(['Volume'], axis=1)\n",
        "grouped_vic = grouped_vic.drop(['Volume'], axis=1)"
      ],
      "metadata": {
        "id": "7JLF67oy4OGa"
      },
      "execution_count": 199,
      "outputs": []
    },
    {
      "cell_type": "markdown",
      "source": [
        "### **Áp dụng RobustScaler**"
      ],
      "metadata": {
        "id": "2NjNWMJNIRDG"
      }
    },
    {
      "cell_type": "markdown",
      "source": [
        "Kiểm tra outliers của các dataset. Nhận thấy ở tất cả các bộ dataset và các thuộc tính hiện có, không xuất hiện phần tử ngoại lai làm ảnh hưởng đến quá trình scaling."
      ],
      "metadata": {
        "id": "oQI12kLSM73x"
      }
    },
    {
      "cell_type": "code",
      "source": [
        "outlier_check(grouped_msn, 'Close')"
      ],
      "metadata": {
        "colab": {
          "base_uri": "https://localhost:8080/"
        },
        "id": "3Qt9qF0FJPH2",
        "outputId": "e35a89df-0af5-4f43-cc3f-e5df4c1ffa19"
      },
      "execution_count": 200,
      "outputs": [
        {
          "output_type": "stream",
          "name": "stdout",
          "text": [
            "Outliers based on IQR:\n",
            "Empty DataFrame\n",
            "Columns: [Open, High, Low, Close]\n",
            "Index: []\n"
          ]
        }
      ]
    },
    {
      "cell_type": "markdown",
      "source": [
        "Các bộ dataset khác nhau sẽ sử dụng những scaler khác nhau do miền dữ liệu giữa các thuộc tính trong các dataset là không đồng bộ."
      ],
      "metadata": {
        "id": "cxmRUK3Z4pHR"
      }
    },
    {
      "cell_type": "code",
      "source": [
        "fpt_scaler_x = RobustScaler()\n",
        "fpt_scaler_y = RobustScaler()\n",
        "msn_scaler_x = RobustScaler()\n",
        "msn_scaler_y = RobustScaler()\n",
        "pnj_scaler_x = RobustScaler()\n",
        "pnj_scaler_y = RobustScaler()\n",
        "vic_scaler_x = RobustScaler()\n",
        "vic_scaler_y = RobustScaler()"
      ],
      "metadata": {
        "id": "Fg3B_laqLu16"
      },
      "execution_count": 201,
      "outputs": []
    },
    {
      "cell_type": "markdown",
      "source": [
        "### **Phân chia dữ liệu**"
      ],
      "metadata": {
        "id": "AyxpD8pm8Bzv"
      }
    },
    {
      "cell_type": "code",
      "source": [
        "X_fpt = grouped_fpt.to_numpy()[:, :-1]\n",
        "y_fpt = grouped_fpt.to_numpy()[:, -1].reshape(-1,1)\n",
        "\n",
        "scaled_X_fpt = fpt_scaler_x.fit_transform(X_fpt)\n",
        "scaled_y_fpt = fpt_scaler_y.fit_transform(y_fpt)\n",
        "\n",
        "X_train_fpt, X_test_fpt, y_train_fpt, y_test_fpt = train_test_split(scaled_X_fpt, scaled_y_fpt, test_size=0.1, random_state=42)"
      ],
      "metadata": {
        "id": "_lrLsqNm8GEv"
      },
      "execution_count": 219,
      "outputs": []
    },
    {
      "cell_type": "code",
      "source": [
        "X_msn = grouped_msn.to_numpy()[:, :-1]\n",
        "y_msn = grouped_msn.to_numpy()[:, -1].reshape(-1,1)\n",
        "\n",
        "scaled_X_msn = msn_scaler_x.fit_transform(X_msn)\n",
        "scaled_y_msn = msn_scaler_y.fit_transform(y_msn)\n",
        "\n",
        "X_train_msn, X_test_msn, y_train_msn, y_test_msn = train_test_split(scaled_X_msn, scaled_y_msn, test_size=0.1, random_state=42)"
      ],
      "metadata": {
        "id": "VY3XKFad8Rvp"
      },
      "execution_count": 220,
      "outputs": []
    },
    {
      "cell_type": "code",
      "source": [
        "X_pnj = grouped_pnj.to_numpy()[:, :-1]\n",
        "y_pnj = grouped_pnj.to_numpy()[:, -1].reshape(-1,1)\n",
        "\n",
        "scaled_X_pnj = pnj_scaler_x.fit_transform(X_pnj)\n",
        "scaled_y_pnj = pnj_scaler_y.fit_transform(y_pnj)\n",
        "\n",
        "X_train_pnj, X_test_pnj, y_train_pnj, y_test_pnj = train_test_split(scaled_X_pnj, scaled_y_pnj, test_size=0.1, random_state=42)"
      ],
      "metadata": {
        "id": "dA3y8t7D8Vp0"
      },
      "execution_count": 221,
      "outputs": []
    },
    {
      "cell_type": "code",
      "source": [
        "X_vic = grouped_vic.to_numpy()[:, :-1]\n",
        "y_vic = grouped_vic.to_numpy()[:, -1].reshape(-1,1)\n",
        "\n",
        "scaled_X_vic = vic_scaler_x.fit_transform(X_vic)\n",
        "scaled_y_vic = vic_scaler_y.fit_transform(y_vic)\n",
        "\n",
        "X_train_vic, X_test_vic, y_train_vic, y_test_vic = train_test_split(scaled_X_vic, scaled_y_vic, test_size=0.1, random_state=42)"
      ],
      "metadata": {
        "id": "pDX771PR8Y_S"
      },
      "execution_count": 222,
      "outputs": []
    },
    {
      "cell_type": "markdown",
      "source": [
        "## **MODELLING**"
      ],
      "metadata": {
        "id": "r9nD2ydV9iCb"
      }
    },
    {
      "cell_type": "markdown",
      "source": [
        "### **Parameters**"
      ],
      "metadata": {
        "id": "Dz1vMO0N-Got"
      }
    },
    {
      "cell_type": "code",
      "source": [
        "ELASTIC_PARAMS = {\n",
        "    'alpha': np.linspace(0.001, 15, 25),\n",
        "    'l1_ratio': np.linspace(0.001, 0.999, 25),\n",
        "    'random_state': [42]\n",
        "}\n",
        "\n",
        "RF_PARAMS = {\n",
        "    'max_features':[2,3],\n",
        "}\n",
        "\n",
        "AB_PARAMS = {\n",
        "    'learning_rate': np.linspace(0.001, 0.8, 25),\n",
        "    'n_estimators': [50]\n",
        "}"
      ],
      "metadata": {
        "id": "KZhy1jTa-K2x"
      },
      "execution_count": 122,
      "outputs": []
    },
    {
      "cell_type": "markdown",
      "source": [
        "### **Mã cổ phiểu FPT**"
      ],
      "metadata": {
        "id": "1NZ7eAD79yLN"
      }
    },
    {
      "cell_type": "code",
      "source": [
        "model_fpt = [\n",
        "    ElasticNet(random_state=42),\n",
        "    RandomForestRegressor(random_state=42),\n",
        "    AdaBoostRegressor(random_state=42)\n",
        "]\n",
        "\n",
        "init_model_fpt = basic_train(model_fpt, X_train_fpt, y_train_fpt, False)\n",
        "opt_model_fpt = basic_train(init_model_fpt, X_train_fpt, y_train_fpt, True)"
      ],
      "metadata": {
        "colab": {
          "base_uri": "https://localhost:8080/",
          "height": 687
        },
        "id": "CD1FzbB49z6o",
        "outputId": "474d0e00-62a9-4a51-f546-44595d54adfa"
      },
      "execution_count": 223,
      "outputs": [
        {
          "output_type": "stream",
          "name": "stderr",
          "text": [
            "/usr/local/lib/python3.10/dist-packages/sklearn/base.py:1152: DataConversionWarning: A column-vector y was passed when a 1d array was expected. Please change the shape of y to (n_samples,), for example using ravel().\n",
            "  return fit_method(estimator, *args, **kwargs)\n",
            "/usr/local/lib/python3.10/dist-packages/sklearn/utils/validation.py:1183: DataConversionWarning: A column-vector y was passed when a 1d array was expected. Please change the shape of y to (n_samples, ), for example using ravel().\n",
            "  y = column_or_1d(y, warn=True)\n",
            "/usr/local/lib/python3.10/dist-packages/sklearn/base.py:1152: DataConversionWarning: A column-vector y was passed when a 1d array was expected. Please change the shape of y to (n_samples,), for example using ravel().\n",
            "  return fit_method(estimator, *args, **kwargs)\n",
            "/usr/local/lib/python3.10/dist-packages/sklearn/utils/validation.py:1183: DataConversionWarning: A column-vector y was passed when a 1d array was expected. Please change the shape of y to (n_samples, ), for example using ravel().\n",
            "  y = column_or_1d(y, warn=True)\n",
            "<ipython-input-185-628993e1a6e7>:8: FutureWarning: \n",
            "\n",
            "Passing `palette` without assigning `hue` is deprecated and will be removed in v0.14.0. Assign the `x` variable to `hue` and set `legend=False` for the same effect.\n",
            "\n",
            "  sns.barplot(x=train_score.index, y='MAE', data=train_score,palette=\"rocket\")\n"
          ]
        },
        {
          "output_type": "display_data",
          "data": {
            "text/plain": [
              "<Figure size 1500x500 with 1 Axes>"
            ],
            "image/png": "[encoded data removed]"
          },
          "metadata": {}
        }
      ]
    },
    {
      "cell_type": "markdown",
      "source": [
        "### **Mã cổ phiểu MSN**"
      ],
      "metadata": {
        "id": "jLSjckiK99yE"
      }
    },
    {
      "cell_type": "code",
      "source": [
        "model_msn = [\n",
        "    ElasticNet(random_state=42),\n",
        "    RandomForestRegressor(random_state=42),\n",
        "    AdaBoostRegressor(random_state=42)\n",
        "]\n",
        "\n",
        "init_model_msn = basic_train(model_msn, X_train_msn, y_train_msn, False)\n",
        "opt_model_msn = basic_train(init_model_msn, X_train_msn, y_train_msn, True)"
      ],
      "metadata": {
        "colab": {
          "base_uri": "https://localhost:8080/",
          "height": 687
        },
        "id": "ksPA-c2fBUct",
        "outputId": "81157307-314b-49c3-8a32-f5af9cdf810b"
      },
      "execution_count": 224,
      "outputs": [
        {
          "output_type": "stream",
          "name": "stderr",
          "text": [
            "/usr/local/lib/python3.10/dist-packages/sklearn/base.py:1152: DataConversionWarning: A column-vector y was passed when a 1d array was expected. Please change the shape of y to (n_samples,), for example using ravel().\n",
            "  return fit_method(estimator, *args, **kwargs)\n",
            "/usr/local/lib/python3.10/dist-packages/sklearn/utils/validation.py:1183: DataConversionWarning: A column-vector y was passed when a 1d array was expected. Please change the shape of y to (n_samples, ), for example using ravel().\n",
            "  y = column_or_1d(y, warn=True)\n",
            "/usr/local/lib/python3.10/dist-packages/sklearn/base.py:1152: DataConversionWarning: A column-vector y was passed when a 1d array was expected. Please change the shape of y to (n_samples,), for example using ravel().\n",
            "  return fit_method(estimator, *args, **kwargs)\n",
            "/usr/local/lib/python3.10/dist-packages/sklearn/utils/validation.py:1183: DataConversionWarning: A column-vector y was passed when a 1d array was expected. Please change the shape of y to (n_samples, ), for example using ravel().\n",
            "  y = column_or_1d(y, warn=True)\n",
            "<ipython-input-185-628993e1a6e7>:8: FutureWarning: \n",
            "\n",
            "Passing `palette` without assigning `hue` is deprecated and will be removed in v0.14.0. Assign the `x` variable to `hue` and set `legend=False` for the same effect.\n",
            "\n",
            "  sns.barplot(x=train_score.index, y='MAE', data=train_score,palette=\"rocket\")\n"
          ]
        },
        {
          "output_type": "display_data",
          "data": {
            "text/plain": [
              "<Figure size 1500x500 with 1 Axes>"
            ],
            "image/png": "[encoded data removed]"
          },
          "metadata": {}
        }
      ]
    },
    {
      "cell_type": "markdown",
      "source": [
        "### **Mã cổ phiểu PNJ**"
      ],
      "metadata": {
        "id": "XsF56coV99-K"
      }
    },
    {
      "cell_type": "code",
      "source": [
        "model_pnj = [\n",
        "    ElasticNet(random_state=42),\n",
        "    RandomForestRegressor(random_state=42),\n",
        "    AdaBoostRegressor(random_state=42)\n",
        "]\n",
        "\n",
        "init_model_pnj = basic_train(model_pnj, X_train_pnj, y_train_pnj, False)\n",
        "opt_model_pnj = basic_train(init_model_pnj, X_train_pnj, y_train_pnj, True)"
      ],
      "metadata": {
        "colab": {
          "base_uri": "https://localhost:8080/",
          "height": 687
        },
        "id": "BqHCzdWWBbHU",
        "outputId": "71dfd149-0725-4301-8ed3-6d9a6d4b164a"
      },
      "execution_count": 225,
      "outputs": [
        {
          "output_type": "stream",
          "name": "stderr",
          "text": [
            "/usr/local/lib/python3.10/dist-packages/sklearn/base.py:1152: DataConversionWarning: A column-vector y was passed when a 1d array was expected. Please change the shape of y to (n_samples,), for example using ravel().\n",
            "  return fit_method(estimator, *args, **kwargs)\n",
            "/usr/local/lib/python3.10/dist-packages/sklearn/utils/validation.py:1183: DataConversionWarning: A column-vector y was passed when a 1d array was expected. Please change the shape of y to (n_samples, ), for example using ravel().\n",
            "  y = column_or_1d(y, warn=True)\n",
            "/usr/local/lib/python3.10/dist-packages/sklearn/base.py:1152: DataConversionWarning: A column-vector y was passed when a 1d array was expected. Please change the shape of y to (n_samples,), for example using ravel().\n",
            "  return fit_method(estimator, *args, **kwargs)\n",
            "/usr/local/lib/python3.10/dist-packages/sklearn/utils/validation.py:1183: DataConversionWarning: A column-vector y was passed when a 1d array was expected. Please change the shape of y to (n_samples, ), for example using ravel().\n",
            "  y = column_or_1d(y, warn=True)\n",
            "<ipython-input-185-628993e1a6e7>:8: FutureWarning: \n",
            "\n",
            "Passing `palette` without assigning `hue` is deprecated and will be removed in v0.14.0. Assign the `x` variable to `hue` and set `legend=False` for the same effect.\n",
            "\n",
            "  sns.barplot(x=train_score.index, y='MAE', data=train_score,palette=\"rocket\")\n"
          ]
        },
        {
          "output_type": "display_data",
          "data": {
            "text/plain": [
              "<Figure size 1500x500 with 1 Axes>"
            ],
            "image/png": "[encoded data removed]"
          },
          "metadata": {}
        }
      ]
    },
    {
      "cell_type": "markdown",
      "source": [
        "### **Mã cổ phiểu VIC**"
      ],
      "metadata": {
        "id": "OgpT4c-Y9-EP"
      }
    },
    {
      "cell_type": "code",
      "source": [
        "model_vic = [\n",
        "    ElasticNet(random_state=42),\n",
        "    RandomForestRegressor(random_state=42),\n",
        "    AdaBoostRegressor(random_state=42)\n",
        "]\n",
        "\n",
        "init_model_vic = basic_train(model_vic, X_train_vic, y_train_vic, False)\n",
        "opt_model_vic = basic_train(init_model_vic, X_train_vic, y_train_vic, True)"
      ],
      "metadata": {
        "colab": {
          "base_uri": "https://localhost:8080/",
          "height": 687
        },
        "id": "WJfEMeEb-CWA",
        "outputId": "93a62bd4-93df-40c8-8d78-106d23572fd5"
      },
      "execution_count": 228,
      "outputs": [
        {
          "output_type": "stream",
          "name": "stderr",
          "text": [
            "/usr/local/lib/python3.10/dist-packages/sklearn/base.py:1152: DataConversionWarning: A column-vector y was passed when a 1d array was expected. Please change the shape of y to (n_samples,), for example using ravel().\n",
            "  return fit_method(estimator, *args, **kwargs)\n",
            "/usr/local/lib/python3.10/dist-packages/sklearn/utils/validation.py:1183: DataConversionWarning: A column-vector y was passed when a 1d array was expected. Please change the shape of y to (n_samples, ), for example using ravel().\n",
            "  y = column_or_1d(y, warn=True)\n",
            "/usr/local/lib/python3.10/dist-packages/sklearn/base.py:1152: DataConversionWarning: A column-vector y was passed when a 1d array was expected. Please change the shape of y to (n_samples,), for example using ravel().\n",
            "  return fit_method(estimator, *args, **kwargs)\n",
            "/usr/local/lib/python3.10/dist-packages/sklearn/utils/validation.py:1183: DataConversionWarning: A column-vector y was passed when a 1d array was expected. Please change the shape of y to (n_samples, ), for example using ravel().\n",
            "  y = column_or_1d(y, warn=True)\n",
            "<ipython-input-185-628993e1a6e7>:8: FutureWarning: \n",
            "\n",
            "Passing `palette` without assigning `hue` is deprecated and will be removed in v0.14.0. Assign the `x` variable to `hue` and set `legend=False` for the same effect.\n",
            "\n",
            "  sns.barplot(x=train_score.index, y='MAE', data=train_score,palette=\"rocket\")\n"
          ]
        },
        {
          "output_type": "display_data",
          "data": {
            "text/plain": [
              "<Figure size 1500x500 with 1 Axes>"
            ],
            "image/png": "[encoded data removed]"
          },
          "metadata": {}
        }
      ]
    },
    {
      "cell_type": "markdown",
      "source": [
        "### **Đánh giá sơ bộ**"
      ],
      "metadata": {
        "id": "DDknh0-CE1ij"
      }
    },
    {
      "cell_type": "markdown",
      "source": [
        "Mô hình cho kết quả tốt nhất sau khi qua quá trình huấn luyện là mô hình Random Forest, Ada Boost."
      ],
      "metadata": {
        "id": "fjg-JlfjFE_R"
      }
    },
    {
      "cell_type": "markdown",
      "source": [
        "## **TESTING**"
      ],
      "metadata": {
        "id": "EJHs8iSpFUbq"
      }
    },
    {
      "cell_type": "markdown",
      "source": [
        "### **Thử nghiệm trên mã cổ phiếu FPT, sử dụng mô hình Random Forest Regressor**"
      ],
      "metadata": {
        "id": "X7HcACyrageX"
      }
    },
    {
      "cell_type": "code",
      "source": [
        "fpt_real = fpt_scaler_y.inverse_transform(np.array(y_test_fpt[3:]).reshape(-1,1))\n",
        "fpt_pred = fpt_scaler_y.inverse_transform(one_day_prediction(opt_model_fpt[1], X_test_fpt))"
      ],
      "metadata": {
        "id": "bpqJs66SPqBL"
      },
      "execution_count": 257,
      "outputs": []
    },
    {
      "cell_type": "code",
      "source": [
        "plot_result(fpt_real, fpt_pred)"
      ],
      "metadata": {
        "colab": {
          "base_uri": "https://localhost:8080/",
          "height": 567
        },
        "id": "3lJfA9mRMv-X",
        "outputId": "b8f461de-3073-4b86-e914-cb00fb43d195"
      },
      "execution_count": 258,
      "outputs": [
        {
          "output_type": "display_data",
          "data": {
            "text/plain": [
              "<Figure size 1000x600 with 1 Axes>"
            ],
            "image/png": "[encoded data removed]"
          },
          "metadata": {}
        }
      ]
    },
    {
      "cell_type": "code",
      "source": [
        "fpt_real_change = []\n",
        "\n",
        "for i in range(1, len(fpt_real)):\n",
        "  fpt_real_change.append((fpt_real[i] - fpt_real[i-1]))"
      ],
      "metadata": {
        "id": "n_qBp8UPWUQB"
      },
      "execution_count": 259,
      "outputs": []
    },
    {
      "cell_type": "code",
      "source": [
        "fpt_pred_change = []\n",
        "\n",
        "for i in range(1, len(fpt_pred)):\n",
        "  fpt_pred_change.append((fpt_pred[i] - fpt_pred[i-1]))"
      ],
      "metadata": {
        "id": "K-kLT177XBg2"
      },
      "execution_count": 260,
      "outputs": []
    },
    {
      "cell_type": "code",
      "source": [
        "comp = pd.DataFrame({'Thực tế': fpt_real_change, 'Dự đoán': fpt_pred_change})"
      ],
      "metadata": {
        "id": "bBFQma49XLAb"
      },
      "execution_count": 261,
      "outputs": []
    },
    {
      "cell_type": "code",
      "source": [
        "comp['Same Direction'] = comp['Thực tế'] * comp['Dự đoán'] > 0"
      ],
      "metadata": {
        "id": "Y_h2YsBcXlyz"
      },
      "execution_count": 262,
      "outputs": []
    },
    {
      "cell_type": "code",
      "source": [
        "comp['Same Direction'].value_counts()"
      ],
      "metadata": {
        "colab": {
          "base_uri": "https://localhost:8080/",
          "height": 178
        },
        "id": "O7khZLIrXnIo",
        "outputId": "053cabcb-621a-405c-f034-3ccbe448ce3f"
      },
      "execution_count": 263,
      "outputs": [
        {
          "output_type": "execute_result",
          "data": {
            "text/plain": [
              "Same Direction\n",
              "False    27\n",
              "True     19\n",
              "Name: count, dtype: int64"
            ],
            "text/html": [
              "<div>\n",
              "<style scoped>\n",
              "    .dataframe tbody tr th:only-of-type {\n",
              "        vertical-align: middle;\n",
              "    }\n",
              "\n",
              "    .dataframe tbody tr th {\n",
              "        vertical-align: top;\n",
              "    }\n",
              "\n",
              "    .dataframe thead th {\n",
              "        text-align: right;\n",
              "    }\n",
              "</style>\n",
              "<table border=\"1\" class=\"dataframe\">\n",
              "  <thead>\n",
              "    <tr style=\"text-align: right;\">\n",
              "      <th></th>\n",
              "      <th>count</th>\n",
              "    </tr>\n",
              "    <tr>\n",
              "      <th>Same Direction</th>\n",
              "      <th></th>\n",
              "    </tr>\n",
              "  </thead>\n",
              "  <tbody>\n",
              "    <tr>\n",
              "      <th>False</th>\n",
              "      <td>27</td>\n",
              "    </tr>\n",
              "    <tr>\n",
              "      <th>True</th>\n",
              "      <td>19</td>\n",
              "    </tr>\n",
              "  </tbody>\n",
              "</table>\n",
              "</div><br><label><b>dtype:</b> int64</label>"
            ]
          },
          "metadata": {},
          "execution_count": 263
        }
      ]
    },
    {
      "cell_type": "markdown",
      "source": [
        "### **Tạm kết**"
      ],
      "metadata": {
        "id": "4TZJD1PTZXsp"
      }
    },
    {
      "cell_type": "markdown",
      "source": [
        "Dễ thấy, với phương pháp ước lượng sử dụng Moving Average cho hai giá trị High và Low thì kết quả đầu ra của mô hình chỉ đạt 19/46 ~ 41% cho việc dự đoán đúng xu hướng tăng giảm của giá cổ phiếu. Kết quả này trên thực tế mà nói là không đáng tin cậy để hỗ trợ đầu tư!"
      ],
      "metadata": {
        "id": "rGwO2HdeYy4F"
      }
    },
    {
      "cell_type": "markdown",
      "source": [
        "Theo bản thân em thì bài toán này có hai khả năng có thể giúp cải thiện độ chính xác của mô hình dự đoán.\n",
        "- Thứ nhất đó là nếu tiếp tục sử dụng Moving Average, thì nhiều khả năng phải làm nhiễu các giá trị High và Low trong quá trình huấn luyện.\n",
        "- Thứ hai là dựa trên các dữ liệu thu thập khác, phát triển một mô hình dự đoán chính xác hơn hai giá trị High và Low."
      ],
      "metadata": {
        "id": "bB4ZovI2ZbnK"
      }
    },
    {
      "cell_type": "markdown",
      "source": [
        "## **LỜI CẢM ƠN**"
      ],
      "metadata": {
        "id": "9cy0bItHarmq"
      }
    },
    {
      "cell_type": "markdown",
      "source": [
        "Qua bài test lần này, em cảm thấy càng tò mò hơn về những yếu tố cần thiết để xây dựng các mô hình dự đoán giúp hỗ trợ người dùng đầu tư một cách hiệu quả.\n",
        "\n",
        "Thực tế, dù đã làm qua một vài dự án liên quan đến AI nhưng bản thân em vẫn là một người mới trong lĩnh vực này, trong quá trình thực hiện bài test không tránh khỏi được những thiếu sót... Rất mong có cơ hội được gặp mặt, trao đổi cũng như học tập thêm nhiều điều bổ ích từ phía Finpros!"
      ],
      "metadata": {
        "id": "wj6aGVzvaxCb"
      }
    }
  ]
}